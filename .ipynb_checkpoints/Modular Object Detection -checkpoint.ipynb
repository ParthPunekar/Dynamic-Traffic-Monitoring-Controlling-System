version https://git-lfs.github.com/spec/v1
oid sha256:ecb52377c86a2fdf1b28f52799e680a598b606c22bb213c3428af470cb2f7303
size 3988
